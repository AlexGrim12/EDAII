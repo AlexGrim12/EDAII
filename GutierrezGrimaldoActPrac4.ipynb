{
 "cells": [
  {
   "cell_type": "markdown",
   "id": "35d9e9f8",
   "metadata": {},
   "source": [
    "# Practica 4\n",
    "\n",
    "### Gutiérrez Grimaldo Alejandro"
   ]
  },
  {
   "cell_type": "markdown",
   "id": "a78103a0",
   "metadata": {},
   "source": [
    "## Busqueda Binaria Recursiva\n"
   ]
  },
  {
   "cell_type": "code",
   "execution_count": 1,
   "id": "3eedc7f6",
   "metadata": {},
   "outputs": [
    {
     "name": "stdout",
     "output_type": "stream",
     "text": [
      "Lista original:  [23, 45, 12, 67, 34, 90, 1, 5, 7, 9, 10, 11, 12, 13, 14, 15, 16]\n",
      "Lista ordenada:  [1, 5, 7, 9, 10, 11, 12, 12, 13, 14, 15, 16, 23, 34, 45, 67, 90]\n",
      "Posición del elemento buscado: 2\n"
     ]
    }
   ],
   "source": [
    "def busquedaBR(A, x, p, r):\n",
    "    if p>r:\n",
    "        return False\n",
    "    medio = int((p+r)/2)\n",
    "    if A[medio]==x:\n",
    "        return medio\n",
    "    elif A[medio]>x:\n",
    "        return busquedaBR(A, x, p, medio-1)\n",
    "    else:\n",
    "        return busquedaBR(A, x, medio+1, r)\n",
    "    \n",
    "def busquedaBinariaRecursiva(A, x):\n",
    "    return busquedaBR(A, x, 0, len(A)-1)\n",
    "\n",
    "def mergeSort(A):\n",
    "    if len(A)>1:\n",
    "        medio = len(A)//2\n",
    "        izq = A[:medio]\n",
    "        der = A[medio:]\n",
    "        mergeSort(izq)\n",
    "        mergeSort(der)\n",
    "        i = 0\n",
    "        j = 0\n",
    "        k = 0\n",
    "        while i<len(izq) and j<len(der):\n",
    "            if izq[i]<der[j]:\n",
    "                A[k] = izq[i]\n",
    "                i+=1\n",
    "            else:\n",
    "                A[k] = der[j]\n",
    "                j+=1\n",
    "            k+=1\n",
    "        while i<len(izq):\n",
    "            A[k] = izq[i]\n",
    "            i+=1\n",
    "            k+=1\n",
    "        while j<len(der):\n",
    "            A[k] = der[j]\n",
    "            j+=1\n",
    "            k+=1\n",
    "\n",
    "lista = [23, 45, 12, 67, 34, 90, 1, 5, 7, 9, 10, 11, 12, 13, 14, 15, 16]\n",
    "\n",
    "print(\"Lista original: \", lista)\n",
    "\n",
    "mergeSort(lista)\n",
    "\n",
    "print(\"Lista ordenada: \", lista)\n",
    "print(\"Posición del elemento buscado: \", end=\"\")\n",
    "print((busquedaBinariaRecursiva(lista, 5))+1)"
   ]
  },
  {
   "cell_type": "markdown",
   "id": "56685078",
   "metadata": {},
   "source": [
    "## Busqueda Binaria Iterativa"
   ]
  },
  {
   "cell_type": "code",
   "execution_count": 2,
   "id": "7fb2a0e6",
   "metadata": {},
   "outputs": [
    {
     "name": "stdout",
     "output_type": "stream",
     "text": [
      "Lista original:  [23, 45, 12, 67, 34, 90, 1, 5, 7, 9, 10, 11, 12, 13, 14, 15, 16]\n",
      "Lista ordenada:  [1, 5, 7, 9, 10, 11, 12, 12, 13, 14, 15, 16, 23, 34, 45, 67, 90]\n",
      "Posición del elemento buscado: 2\n"
     ]
    }
   ],
   "source": [
    "# busqueda binaria iterativa\n",
    "def busquedaBinariaIterativa(A, x):\n",
    "    p = 0\n",
    "    r = len(A)-1\n",
    "    while p<=r:\n",
    "        medio = int((p+r)/2)\n",
    "        if A[medio]==x:\n",
    "            return medio\n",
    "        elif A[medio]>x:\n",
    "            r = medio-1\n",
    "        else:\n",
    "            p = medio+1\n",
    "    return False\n",
    "\n",
    "def mergeSort(A):\n",
    "    if len(A)>1:\n",
    "        medio = len(A)//2\n",
    "        izq = A[:medio]\n",
    "        der = A[medio:]\n",
    "        mergeSort(izq)\n",
    "        mergeSort(der)\n",
    "        i = 0\n",
    "        j = 0\n",
    "        k = 0\n",
    "        while i<len(izq) and j<len(der):\n",
    "            if izq[i]<der[j]:\n",
    "                A[k] = izq[i]\n",
    "                i+=1\n",
    "            else:\n",
    "                A[k] = der[j]\n",
    "                j+=1\n",
    "            k+=1\n",
    "        while i<len(izq):\n",
    "            A[k] = izq[i]\n",
    "            i+=1\n",
    "            k+=1\n",
    "        while j<len(der):\n",
    "            A[k] = der[j]\n",
    "            j+=1\n",
    "            k+=1\n",
    "\n",
    "lista = [23, 45, 12, 67, 34, 90, 1, 5, 7, 9, 10, 11, 12, 13, 14, 15, 16]\n",
    "\n",
    "print(\"Lista original: \", lista)\n",
    "\n",
    "mergeSort(lista)\n",
    "\n",
    "print(\"Lista ordenada: \", lista)\n",
    "\n",
    "print(\"Posición del elemento buscado: \", end=\"\")\n",
    "print((busquedaBinariaIterativa(lista, 5))+1)"
   ]
  },
  {
   "cell_type": "markdown",
   "id": "8017f7ea",
   "metadata": {},
   "source": [
    "## Busqueda Lineal Sentinela"
   ]
  },
  {
   "cell_type": "code",
   "execution_count": 3,
   "id": "67130169",
   "metadata": {},
   "outputs": [
    {
     "name": "stdout",
     "output_type": "stream",
     "text": [
      "Lista original:  [23, 45, 12, 67, 34, 90, 1, 5, 7, 9, 10, 11, 12, 13, 14, 15, 16]\n",
      "Lista ordenada:  [1, 5, 7, 9, 10, 11, 12, 12, 13, 14, 15, 16, 23, 34, 45, 67, 90]\n",
      "Posición del elemento buscado: 2\n"
     ]
    }
   ],
   "source": [
    "# Busqueda lineal sentinela\n",
    "def busquedaLinealSentinela(A, x):\n",
    "    n = len(A)\n",
    "    ultimo = A[n-1]\n",
    "    A[n-1] = x\n",
    "    i = 0\n",
    "    while A[i]!=x:\n",
    "        i+=1\n",
    "    A[n-1] = ultimo\n",
    "    if i<n-1 or A[n-1]==x:\n",
    "        return i\n",
    "    else:\n",
    "        return False\n",
    "    \n",
    "def mergeSort(A):\n",
    "    if len(A)>1:\n",
    "        medio = len(A)//2\n",
    "        izq = A[:medio]\n",
    "        der = A[medio:]\n",
    "        mergeSort(izq)\n",
    "        mergeSort(der)\n",
    "        i = 0\n",
    "        j = 0\n",
    "        k = 0\n",
    "        while i<len(izq) and j<len(der):\n",
    "            if izq[i]<der[j]:\n",
    "                A[k] = izq[i]\n",
    "                i+=1\n",
    "            else:\n",
    "                A[k] = der[j]\n",
    "                j+=1\n",
    "            k+=1\n",
    "        while i<len(izq):\n",
    "            A[k] = izq[i]\n",
    "            i+=1\n",
    "            k+=1\n",
    "        while j<len(der):\n",
    "            A[k] = der[j]\n",
    "            j+=1\n",
    "            k+=1\n",
    "\n",
    "lista = [23, 45, 12, 67, 34, 90, 1, 5, 7, 9, 10, 11, 12, 13, 14, 15, 16]\n",
    "\n",
    "print(\"Lista original: \", lista)\n",
    "\n",
    "mergeSort(lista)\n",
    "\n",
    "print(\"Lista ordenada: \", lista)\n",
    "\n",
    "print(\"Posición del elemento buscado: \", end=\"\")\n",
    "print((busquedaLinealSentinela(lista, 5))+1)"
   ]
  }
 ],
 "metadata": {
  "kernelspec": {
   "display_name": "Python 3 (ipykernel)",
   "language": "python",
   "name": "python3"
  },
  "language_info": {
   "codemirror_mode": {
    "name": "ipython",
    "version": 3
   },
   "file_extension": ".py",
   "mimetype": "text/x-python",
   "name": "python",
   "nbconvert_exporter": "python",
   "pygments_lexer": "ipython3",
   "version": "3.11.4"
  }
 },
 "nbformat": 4,
 "nbformat_minor": 5
}
