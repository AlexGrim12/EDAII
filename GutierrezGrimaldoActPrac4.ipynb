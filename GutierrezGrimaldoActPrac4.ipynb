{
 "cells": [
  {
   "cell_type": "markdown",
   "id": "35d9e9f8",
   "metadata": {},
   "source": [
    "# Practica 4\n",
    "\n",
    "### Gutiérrez Grimaldo Alejandro"
   ]
  },
  {
   "cell_type": "markdown",
   "id": "10d3858a",
   "metadata": {},
   "source": [
    "## Busqueda Lineal"
   ]
  },
  {
   "cell_type": "code",
   "execution_count": 89,
   "id": "7435a6ae",
   "metadata": {},
   "outputs": [
    {
     "name": "stdout",
     "output_type": "stream",
     "text": [
      "Lista original:  [23, 6, 4, 3, 6, 31, 12, 89, 6, 78, 54, 19]\n",
      "El elmento que buscamos es el numero 6\n",
      "Posición del elemento buscado: 9\n"
     ]
    }
   ],
   "source": [
    "# Gutiérrez Grimaldo Alejandro\n",
    "\n",
    "def busquedaLineal(A,n, x):\n",
    "    encontrado = -1\n",
    "    for i in range(n-1):\n",
    "        if A[i]==x:\n",
    "            encontrado = i\n",
    "    return encontrado\n",
    "\n",
    "lista = [23, 6, 4, 3, 6, 31, 12, 89, 6, 78, 54, 19]\n",
    "\n",
    "print(\"Lista original: \", lista)\n",
    "\n",
    "print(\"El elmento que buscamos es el numero 6\")\n",
    "print(\"Posición del elemento buscado: \", end=\"\")\n",
    "print((busquedaLineal(lista, len(lista), 6))+1)"
   ]
  },
  {
   "cell_type": "markdown",
   "id": "388b851e",
   "metadata": {},
   "source": [
    "## Busqueda Lineal mejorada 1"
   ]
  },
  {
   "cell_type": "code",
   "execution_count": 90,
   "id": "9017a2ef",
   "metadata": {},
   "outputs": [
    {
     "name": "stdout",
     "output_type": "stream",
     "text": [
      "Lista original:  [23, 6, 4, 3, 6, 31, 12, 89, 6, 78, 54, 19]\n",
      "El elmento que buscamos es el numero 6\n",
      "Posición del elemento buscado: 2\n"
     ]
    }
   ],
   "source": [
    "# Gutiérrez Grimaldo Alejandro\n",
    "\n",
    "def busquedaLinealMejorada(A, n, x):\n",
    "    encontrado = -1\n",
    "    for i in range(n-1):\n",
    "        if A[i]==x:\n",
    "            encontrado = i\n",
    "            break\n",
    "    return encontrado\n",
    "\n",
    "lista = [23, 6, 4, 3, 6, 31, 12, 89, 6, 78, 54, 19]\n",
    "\n",
    "print(\"Lista original: \", lista)\n",
    "\n",
    "print(\"El elmento que buscamos es el numero 6\")\n",
    "print(\"Posición del elemento buscado: \", end=\"\")\n",
    "print((busquedaLinealMejorada(lista, len(lista), 6))+1)"
   ]
  },
  {
   "cell_type": "markdown",
   "id": "826e7544",
   "metadata": {},
   "source": [
    "## Busqueda Lineal Mejorada 2"
   ]
  },
  {
   "cell_type": "code",
   "execution_count": 96,
   "id": "bae16fde",
   "metadata": {},
   "outputs": [
    {
     "name": "stdout",
     "output_type": "stream",
     "text": [
      "Lista original:  [23, 6, 4, 3, 6, 31, 12, 89, 6, 78, 54, 19]\n",
      "El elmento que buscamos es el numero 6\n",
      "Posición del elemento buscado: 9\n"
     ]
    }
   ],
   "source": [
    "# Gutiérrez Grimaldo Alejandro\n",
    "\n",
    "def busquedaLinealMejorada(A, n, x):\n",
    "    i=0\n",
    "    while i<n and A[i]!=x:\n",
    "        i+=1\n",
    "    if i<n:\n",
    "        encontrado = i\n",
    "    return encontrado\n",
    "    \n",
    "lista = [23, 6, 4, 3, 6, 31, 12, 89, 6, 78, 54, 19]\n",
    "\n",
    "print(\"Lista original: \", lista)\n",
    "\n",
    "print(\"El elmento que buscamos es el numero 6\")\n",
    "print(\"Posición del elemento buscado: \", end=\"\")\n",
    "print((busquedaLineal(lista, len(lista), 6))+1)"
   ]
  },
  {
   "cell_type": "markdown",
   "id": "8017f7ea",
   "metadata": {},
   "source": [
    "## Busqueda Lineal Centinela"
   ]
  },
  {
   "cell_type": "code",
   "execution_count": 92,
   "id": "c740bf2d",
   "metadata": {},
   "outputs": [
    {
     "name": "stdout",
     "output_type": "stream",
     "text": [
      "Lista original:  [23, 6, 4, 3, 6, 31, 12, 89, 6, 78, 54, 19]\n",
      "El elmento que buscamos es el numero 6\n",
      "Posición del elemento buscado: 2\n"
     ]
    }
   ],
   "source": [
    "# Gutiérrez Grimaldo Alejandro\n",
    "\n",
    "def busquedaLinealCentinela(A, n, x):\n",
    "    tmp = A[n-1]\n",
    "    A[n-1] = x\n",
    "    i = 0\n",
    "    while A[i]!=x:\n",
    "        i+=1\n",
    "    A[n-1] = tmp\n",
    "    if i<n-1 or A[n-1]==x:\n",
    "        return i\n",
    "    else:\n",
    "        return -1\n",
    "    \n",
    "lista = [23, 6, 4, 3, 6, 31, 12, 89, 6, 78, 54, 19]\n",
    "\n",
    "    \n",
    "print(\"Lista original: \", lista)\n",
    "    \n",
    "print(\"El elmento que buscamos es el numero 6\")\n",
    "print(\"Posición del elemento buscado: \", end=\"\")\n",
    "print((busquedaLinealCentinela(lista, len(lista), 6))+1)"
   ]
  },
  {
   "cell_type": "markdown",
   "id": "885349c4",
   "metadata": {},
   "source": [
    "## Busqueda lineal recursiva"
   ]
  },
  {
   "cell_type": "code",
   "execution_count": 93,
   "id": "b4c56912",
   "metadata": {},
   "outputs": [
    {
     "name": "stdout",
     "output_type": "stream",
     "text": [
      "Lista original:  [23, 6, 4, 3, 6, 31, 12, 89, 6, 78, 54, 19]\n",
      "El elmento que buscamos es el numero 6\n",
      "Posición del elemento buscado: 2\n"
     ]
    }
   ],
   "source": [
    "# Gutiérrez Grimaldo Alejandro\n",
    "\n",
    "def busquedaLinealRecursiva(A, x, ini, fin):\n",
    "    if ini>fin:\n",
    "        return -1\n",
    "    if A[ini]==x:\n",
    "        return ini\n",
    "    return busquedaLinealRecursiva(A, x, ini+1, fin)\n",
    "\n",
    "lista = [23, 6, 4, 3, 6, 31, 12, 89, 6, 78, 54, 19]\n",
    "\n",
    "\n",
    "print(\"Lista original: \", lista)\n",
    "\n",
    "print(\"El elmento que buscamos es el numero 6\")\n",
    "print(\"Posición del elemento buscado: \", end=\"\")\n",
    "print((busquedaLinealRecursiva(lista, 6, 0, len(lista)-1))+1)"
   ]
  },
  {
   "cell_type": "markdown",
   "id": "a78103a0",
   "metadata": {},
   "source": [
    "## Busqueda Binaria Recursiva\n"
   ]
  },
  {
   "cell_type": "code",
   "execution_count": 94,
   "id": "3eedc7f6",
   "metadata": {},
   "outputs": [
    {
     "name": "stdout",
     "output_type": "stream",
     "text": [
      "Lista original:  [27, 79, 52, 72, 81, 24, 28, 18, 11, 14]\n",
      "Lista ordenada:  [11, 14, 18, 24, 27, 28, 52, 72, 79, 81]\n",
      "El elmento que buscamos es el numero 5\n",
      "Posición del elemento buscado: 1\n"
     ]
    }
   ],
   "source": [
    "# Gutiérrez Grimaldo Alejandro\n",
    "\n",
    "import random\n",
    "\n",
    "def busquedaBR(A, x, p, r):\n",
    "    if p>r:\n",
    "        return False\n",
    "    medio = int((p+r)/2)\n",
    "    if A[medio]==x:\n",
    "        return medio\n",
    "    elif A[medio]>x:\n",
    "        return busquedaBR(A, x, p, medio-1)\n",
    "    else:\n",
    "        return busquedaBR(A, x, medio+1, r)\n",
    "    \n",
    "def busquedaBinariaRecursiva(A, x):\n",
    "    return busquedaBR(A, x, 0, len(A)-1)\n",
    "\n",
    "def mergeSort(A):\n",
    "    if len(A)>1:\n",
    "        medio = len(A)//2\n",
    "        izq = A[:medio]\n",
    "        der = A[medio:]\n",
    "        mergeSort(izq)\n",
    "        mergeSort(der)\n",
    "        i = 0\n",
    "        j = 0\n",
    "        k = 0\n",
    "        while i<len(izq) and j<len(der):\n",
    "            if izq[i]<der[j]:\n",
    "                A[k] = izq[i]\n",
    "                i+=1\n",
    "            else:\n",
    "                A[k] = der[j]\n",
    "                j+=1\n",
    "            k+=1\n",
    "        while i<len(izq):\n",
    "            A[k] = izq[i]\n",
    "            i+=1\n",
    "            k+=1\n",
    "        while j<len(der):\n",
    "            A[k] = der[j]\n",
    "            j+=1\n",
    "            k+=1\n",
    "\n",
    "def crearListaRandom(n):\n",
    "    lista = []\n",
    "    for i in range(n):\n",
    "        lista.append(random.randint(0, 100))\n",
    "    return lista\n",
    "\n",
    "lista = crearListaRandom(10)\n",
    "\n",
    "print(\"Lista original: \", lista)\n",
    "\n",
    "mergeSort(lista)\n",
    "\n",
    "\n",
    "print(\"Lista ordenada: \", lista)\n",
    "\n",
    "print(\"El elmento que buscamos es el numero 5\")\n",
    "print(\"Posición del elemento buscado: \", end=\"\")\n",
    "print((busquedaBinariaRecursiva(lista, 6))+1)"
   ]
  },
  {
   "cell_type": "markdown",
   "id": "56685078",
   "metadata": {},
   "source": [
    "## Busqueda Binaria Iterativa"
   ]
  },
  {
   "cell_type": "code",
   "execution_count": 95,
   "id": "7fb2a0e6",
   "metadata": {},
   "outputs": [
    {
     "name": "stdout",
     "output_type": "stream",
     "text": [
      "Lista original:  [55, 84, 34, 92, 64, 63, 38, 35, 8, 24]\n",
      "Lista ordenada:  [8, 24, 34, 35, 38, 55, 63, 64, 84, 92]\n",
      "El elmento que buscamos es el numero 5\n",
      "Posición del elemento buscado: 1\n"
     ]
    }
   ],
   "source": [
    "# Gutiérrez Grimaldo Alejandro\n",
    "\n",
    "import random\n",
    "\n",
    "def busquedaBinariaIterativa(A, x):\n",
    "    p = 0\n",
    "    r = len(A)-1\n",
    "    while p<=r:\n",
    "        medio = int((p+r)/2)\n",
    "        if A[medio]==x:\n",
    "            return medio\n",
    "        elif A[medio]>x:\n",
    "            r = medio-1\n",
    "        else:\n",
    "            p = medio+1\n",
    "    return False\n",
    "\n",
    "def mergeSort(A):\n",
    "    if len(A)>1:\n",
    "        medio = len(A)//2\n",
    "        izq = A[:medio]\n",
    "        der = A[medio:]\n",
    "        mergeSort(izq)\n",
    "        mergeSort(der)\n",
    "        i = 0\n",
    "        j = 0\n",
    "        k = 0\n",
    "        while i<len(izq) and j<len(der):\n",
    "            if izq[i]<der[j]:\n",
    "                A[k] = izq[i]\n",
    "                i+=1\n",
    "            else:\n",
    "                A[k] = der[j]\n",
    "                j+=1\n",
    "            k+=1\n",
    "        while i<len(izq):\n",
    "            A[k] = izq[i]\n",
    "            i+=1\n",
    "            k+=1\n",
    "        while j<len(der):\n",
    "            A[k] = der[j]\n",
    "            j+=1\n",
    "            k+=1\n",
    "\n",
    "def crearListaRandom(n):\n",
    "    lista = []\n",
    "    for i in range(n):\n",
    "        lista.append(random.randint(0, 100))\n",
    "    return lista\n",
    "\n",
    "lista = crearListaRandom(10)\n",
    "\n",
    "print(\"Lista original: \", lista)\n",
    "\n",
    "mergeSort(lista)\n",
    "\n",
    "print(\"Lista ordenada: \", lista)\n",
    "\n",
    "print(\"El elmento que buscamos es el numero 5\")\n",
    "print(\"Posición del elemento buscado: \", end=\"\")\n",
    "print((busquedaBinariaIterativa(lista, 6))+1)"
   ]
  }
 ],
 "metadata": {
  "kernelspec": {
   "display_name": "Python 3 (ipykernel)",
   "language": "python",
   "name": "python3"
  },
  "language_info": {
   "codemirror_mode": {
    "name": "ipython",
    "version": 3
   },
   "file_extension": ".py",
   "mimetype": "text/x-python",
   "name": "python",
   "nbconvert_exporter": "python",
   "pygments_lexer": "ipython3",
   "version": "3.11.4"
  }
 },
 "nbformat": 4,
 "nbformat_minor": 5
}
